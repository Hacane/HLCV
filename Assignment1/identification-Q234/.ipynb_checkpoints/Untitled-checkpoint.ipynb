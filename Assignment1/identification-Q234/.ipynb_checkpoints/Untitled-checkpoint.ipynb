{
 "cells": [
  {
   "cell_type": "code",
   "execution_count": 1,
   "id": "d97fd6c0",
   "metadata": {},
   "outputs": [],
   "source": [
    "## import packages\n",
    "import numpy as np\n",
    "from PIL import Image\n",
    "from numpy import histogram as hist  # call hist, otherwise np.histogram\n",
    "import matplotlib.pyplot as plt\n",
    "\n",
    "import histogram_module\n",
    "import dist_module\n",
    "import match_module\n",
    "import rpc_module"
   ]
  },
  {
   "cell_type": "code",
   "execution_count": 2,
   "id": "62132f5f",
   "metadata": {},
   "outputs": [],
   "source": [
    "## Find best match (Question 3.a)\n",
    "\n",
    "with open('model.txt') as fp:\n",
    "    model_images = fp.readlines()\n",
    "model_images = [x.strip() for x in model_images] \n",
    "\n",
    "with open('query.txt') as fp:\n",
    "    query_images = fp.readlines()\n",
    "query_images = [x.strip() for x in query_images] \n",
    "\n",
    "eval_dist_type = 'intersect';\n",
    "eval_hist_type = 'rg';\n",
    "eval_num_bins = 30;"
   ]
  },
  {
   "cell_type": "markdown",
   "id": "13fac9d7",
   "metadata": {},
   "source": [
    "## 3.a : Show neigbours and find best match\n",
    "The show_neighbours() takes all the input images and their corresponding images. The distance formulae implemented in 2.c are used to compute the similarities in the images. \n",
    "The output of the function D is of size (no of model images * no of query images). In this specific example 89*89. Each cell [i,j] represents the distance between ith result image and jth query images.\n",
    "The best match is the one that has the least distance from the model image."
   ]
  },
  {
   "cell_type": "code",
   "execution_count": 7,
   "id": "a37270ef",
   "metadata": {},
   "outputs": [
    {
     "name": "stdout",
     "output_type": "stream",
     "text": [
      "Shape of D: (89, 89)\n",
      "Shape of Best Match: (89,)\n"
     ]
    }
   ],
   "source": [
    "[best_match, D] = match_module.find_best_match(model_images, query_images, eval_dist_type, eval_hist_type, eval_num_bins)\n",
    "print(\"Shape of D: \"+ str(np.shape(D)))\n",
    "print(\"Shape of Best Match: \"+ str(np.shape(best_match)))"
   ]
  },
  {
   "cell_type": "code",
   "execution_count": null,
   "id": "70a42153",
   "metadata": {},
   "outputs": [],
   "source": [
    "print(\"Distance formula used : %s \"% (eval_dist_type))\n",
    "print(\"Histrograms formula used : %s \"% (eval_hist_type))\n",
    "print(\"No of bins used : %i \"% (eval_num_bins))\n"
   ]
  },
  {
   "cell_type": "markdown",
   "id": "97b14cd6",
   "metadata": {},
   "source": [
    "#### Additionally 5 sample images are taken from model_images and their best_match are plotted"
   ]
  },
  {
   "cell_type": "code",
   "execution_count": null,
   "id": "6bb6df65",
   "metadata": {},
   "outputs": [],
   "source": [
    "print(\"Distance formula used : %s \"% (eval_dist_type))\n",
    "print(\"Histrograms formula used : %s \"% (eval_hist_type))\n",
    "print(\"No of bins used : %i \"% (eval_num_bins))\n",
    "plt.figure()\n",
    "fig, axes2d = plt.subplots(nrows=5, ncols=2,sharex=True, sharey=True,figsize=(6,6))\n",
    "for i, row in enumerate(axes2d):\n",
    "    for j, cell in enumerate(row):\n",
    "        if(j==0):\n",
    "            cell.imshow(np.array(Image.open(model_images[i])), vmin=0, vmax=255)\n",
    "            if i == len(axes2d) - 1:\n",
    "                cell.set_xlabel(\"Test image\")\n",
    "        else:\n",
    "            cell.imshow(np.array(Image.open(query_images[best_match[i]])), vmin=0, vmax=255 )  \n",
    "            if i == len(axes2d) - 1:\n",
    "                cell.set_xlabel(\"Best Match\")\n",
    "        if j == 0:\n",
    "            cell.set_ylabel(\"Test case: {0:d}\".format(i + 1))\n",
    "plt.tight_layout()\n",
    "plt.show()"
   ]
  },
  {
   "cell_type": "markdown",
   "id": "bef8aad4",
   "metadata": {},
   "source": [
    "## 3.b Five Nearest neighbors\n",
    "As required neighbours are calculated from the three given images. Using the D matrix calculated by find_match_module is used to find the distances. For each given image, top 5 candidate images based on their similiarity are plotted."
   ]
  },
  {
   "cell_type": "code",
   "execution_count": null,
   "id": "1ffc1059",
   "metadata": {
    "scrolled": true
   },
   "outputs": [],
   "source": [
    "## visualize nearest neighbors (Question 3.b)\n",
    "query_images_vis = [query_images[i] for i in np.array([0,4,9])]\n",
    "match_module.show_neighbors(model_images, query_images_vis, eval_dist_type, eval_hist_type, eval_num_bins)"
   ]
  },
  {
   "cell_type": "code",
   "execution_count": null,
   "id": "a07662dc",
   "metadata": {},
   "outputs": [],
   "source": [
    "print(\"Distance formula used : %s \"% (eval_dist_type))\n",
    "print(\"Histrograms formula used : %s \"% (eval_hist_type))\n",
    "print(\"No of bins used : %i \"% (eval_num_bins))\n"
   ]
  },
  {
   "cell_type": "markdown",
   "id": "cdcedb59",
   "metadata": {},
   "source": [
    "## 3.c Recognition percentage"
   ]
  },
  {
   "cell_type": "markdown",
   "id": "1e15fd05",
   "metadata": {},
   "source": [
    "The recognition percentage is calculated for all distance formulae and histograms."
   ]
  },
  {
   "cell_type": "code",
   "execution_count": 4,
   "id": "0054d9cf",
   "metadata": {},
   "outputs": [
    {
     "name": "stdout",
     "output_type": "stream",
     "text": [
      "distance functions:\n",
      "['l2', 'intersect', 'chi2']\n",
      "\n",
      "\n",
      "histogram types:\n",
      "['rgb', 'rg', 'dxdy', 'grayscale']\n",
      "\n",
      "\n"
     ]
    }
   ],
   "source": [
    "print('distance functions:')\n",
    "distance_types = ['l2', 'intersect', 'chi2']\n",
    "print(distance_types)\n",
    "print('\\n')\n",
    "\n",
    "print('histogram types:')\n",
    "hist_types = [ 'rgb', 'rg', 'dxdy','grayscale']\n",
    "print(hist_types)\n",
    "print('\\n')\n"
   ]
  },
  {
   "cell_type": "code",
   "execution_count": 8,
   "id": "60f89153",
   "metadata": {},
   "outputs": [
    {
     "name": "stdout",
     "output_type": "stream",
     "text": [
      "Distance formula used : intersect \n",
      "\n",
      "Histrograms formula used : rg \n",
      "\n",
      "No of bins used : 30 \n",
      "\n",
      "number of correct matches: 68 \n",
      "\n",
      "total sample: 89 \n",
      "\n",
      "recognition percentage: 0.764045\n",
      "\n"
     ]
    }
   ],
   "source": [
    "## compute recognition percentage (Question 3.c)\n",
    "# import ipdb; ipdb.set_trace()\n",
    "print(\"Distance formula used : %s \\n\"% (eval_dist_type))\n",
    "print(\"Histrograms formula used : %s \\n\"% (eval_hist_type))\n",
    "print(\"No of bins used : %i \\n\"% (eval_num_bins))\n",
    "num_correct = sum( best_match == range(len(query_images)) )\n",
    "print('number of correct matches: %d \\n'% (num_correct))\n",
    "print('total sample: %d \\n'% (len(query_images)))\n",
    "print('recognition percentage: %f\\n'% (1.0 * num_correct / len(query_images)))"
   ]
  },
  {
   "cell_type": "code",
   "execution_count": 5,
   "id": "f7e7b75d",
   "metadata": {},
   "outputs": [
    {
     "name": "stdout",
     "output_type": "stream",
     "text": [
      "[ 5 30 70]\n"
     ]
    }
   ],
   "source": [
    "bins=np.array([5,30,70])\n",
    "print(bins)\n",
    "Correct_Match_Table = np.zeros( (len(distance_types), len(hist_types),len(bins)) )"
   ]
  },
  {
   "cell_type": "code",
   "execution_count": 6,
   "id": "e8c12e3f",
   "metadata": {},
   "outputs": [
    {
     "name": "stdout",
     "output_type": "stream",
     "text": [
      "l2 rgb 5\n",
      "number of correct matches: 0 (0.000000)\n",
      "\n",
      "\n",
      "\n",
      "l2 rgb 30\n"
     ]
    },
    {
     "ename": "KeyboardInterrupt",
     "evalue": "",
     "output_type": "error",
     "traceback": [
      "\u001b[0;31m---------------------------------------------------------------------------\u001b[0m",
      "\u001b[0;31mKeyboardInterrupt\u001b[0m                         Traceback (most recent call last)",
      "\u001b[0;32m<ipython-input-6-08a5019aa4ed>\u001b[0m in \u001b[0;36m<module>\u001b[0;34m\u001b[0m\n\u001b[1;32m      3\u001b[0m     \u001b[0;32mfor\u001b[0m \u001b[0mx\u001b[0m \u001b[0;32min\u001b[0m \u001b[0mrange\u001b[0m\u001b[0;34m(\u001b[0m\u001b[0mlen\u001b[0m\u001b[0;34m(\u001b[0m\u001b[0mbins\u001b[0m\u001b[0;34m)\u001b[0m\u001b[0;34m)\u001b[0m\u001b[0;34m:\u001b[0m\u001b[0;34m\u001b[0m\u001b[0;34m\u001b[0m\u001b[0m\n\u001b[1;32m      4\u001b[0m       \u001b[0mprint\u001b[0m\u001b[0;34m(\u001b[0m\u001b[0mdistance_types\u001b[0m\u001b[0;34m[\u001b[0m\u001b[0mdidx\u001b[0m\u001b[0;34m]\u001b[0m\u001b[0;34m,\u001b[0m \u001b[0mhist_types\u001b[0m\u001b[0;34m[\u001b[0m\u001b[0mhidx\u001b[0m\u001b[0;34m]\u001b[0m\u001b[0;34m,\u001b[0m \u001b[0mbins\u001b[0m\u001b[0;34m[\u001b[0m\u001b[0mx\u001b[0m\u001b[0;34m]\u001b[0m\u001b[0;34m)\u001b[0m\u001b[0;34m\u001b[0m\u001b[0;34m\u001b[0m\u001b[0m\n\u001b[0;32m----> 5\u001b[0;31m       \u001b[0;34m[\u001b[0m\u001b[0mbest_match\u001b[0m\u001b[0;34m,\u001b[0m \u001b[0mD\u001b[0m\u001b[0;34m]\u001b[0m \u001b[0;34m=\u001b[0m \u001b[0mmatch_module\u001b[0m\u001b[0;34m.\u001b[0m\u001b[0mfind_best_match\u001b[0m\u001b[0;34m(\u001b[0m\u001b[0mmodel_images\u001b[0m\u001b[0;34m,\u001b[0m \u001b[0mquery_images\u001b[0m\u001b[0;34m,\u001b[0m \u001b[0mdistance_types\u001b[0m\u001b[0;34m[\u001b[0m\u001b[0mdidx\u001b[0m\u001b[0;34m]\u001b[0m\u001b[0;34m,\u001b[0m \u001b[0mhist_types\u001b[0m\u001b[0;34m[\u001b[0m\u001b[0mhidx\u001b[0m\u001b[0;34m]\u001b[0m\u001b[0;34m,\u001b[0m \u001b[0mint\u001b[0m\u001b[0;34m(\u001b[0m\u001b[0mbins\u001b[0m\u001b[0;34m[\u001b[0m\u001b[0mx\u001b[0m\u001b[0;34m]\u001b[0m\u001b[0;34m)\u001b[0m\u001b[0;34m)\u001b[0m\u001b[0;34m\u001b[0m\u001b[0;34m\u001b[0m\u001b[0m\n\u001b[0m\u001b[1;32m      6\u001b[0m       \u001b[0;31m# [best_match, D] = match_module.find_best_match(model_images, query_images, distance_types[didx], 'rg', int(bins[x]))\u001b[0m\u001b[0;34m\u001b[0m\u001b[0;34m\u001b[0m\u001b[0;34m\u001b[0m\u001b[0m\n\u001b[1;32m      7\u001b[0m       \u001b[0mnum_correct\u001b[0m \u001b[0;34m=\u001b[0m \u001b[0msum\u001b[0m\u001b[0;34m(\u001b[0m \u001b[0mbest_match\u001b[0m \u001b[0;34m==\u001b[0m \u001b[0mrange\u001b[0m\u001b[0;34m(\u001b[0m\u001b[0mlen\u001b[0m\u001b[0;34m(\u001b[0m\u001b[0mquery_images\u001b[0m\u001b[0;34m)\u001b[0m\u001b[0;34m)\u001b[0m \u001b[0;34m)\u001b[0m\u001b[0;34m\u001b[0m\u001b[0;34m\u001b[0m\u001b[0m\n",
      "\u001b[0;32m/Volumes/My Passport/[SAARLAND]/[HLCV]/Exercise_1/Shared/Assignment1/identification-Q234/match_module.py\u001b[0m in \u001b[0;36mfind_best_match\u001b[0;34m(model_images, query_images, dist_type, hist_type, num_bins)\u001b[0m\n\u001b[1;32m     41\u001b[0m \u001b[0;34m\u001b[0m\u001b[0m\n\u001b[1;32m     42\u001b[0m       \u001b[0;31m# print(np.shape(model_hists[i]),np.shape(model_hists[i]))\u001b[0m\u001b[0;34m\u001b[0m\u001b[0;34m\u001b[0m\u001b[0;34m\u001b[0m\u001b[0m\n\u001b[0;32m---> 43\u001b[0;31m       \u001b[0mD\u001b[0m\u001b[0;34m[\u001b[0m\u001b[0mi\u001b[0m\u001b[0;34m,\u001b[0m\u001b[0mj\u001b[0m\u001b[0;34m]\u001b[0m\u001b[0;34m=\u001b[0m\u001b[0mget_dist_by_name\u001b[0m\u001b[0;34m(\u001b[0m\u001b[0mmodel_hists\u001b[0m\u001b[0;34m[\u001b[0m\u001b[0mi\u001b[0m\u001b[0;34m]\u001b[0m\u001b[0;34m,\u001b[0m\u001b[0mquery_hists\u001b[0m\u001b[0;34m[\u001b[0m\u001b[0mj\u001b[0m\u001b[0;34m]\u001b[0m\u001b[0;34m,\u001b[0m\u001b[0mdist_type\u001b[0m\u001b[0;34m)\u001b[0m\u001b[0;34m\u001b[0m\u001b[0;34m\u001b[0m\u001b[0m\n\u001b[0m\u001b[1;32m     44\u001b[0m \u001b[0;34m\u001b[0m\u001b[0m\n\u001b[1;32m     45\u001b[0m   \u001b[0mbest_match\u001b[0m\u001b[0;34m=\u001b[0m\u001b[0mnp\u001b[0m\u001b[0;34m.\u001b[0m\u001b[0margmin\u001b[0m\u001b[0;34m(\u001b[0m\u001b[0mabs\u001b[0m\u001b[0;34m(\u001b[0m\u001b[0mD\u001b[0m\u001b[0;34m)\u001b[0m\u001b[0;34m,\u001b[0m \u001b[0maxis\u001b[0m\u001b[0;34m=\u001b[0m\u001b[0;36m1\u001b[0m\u001b[0;34m)\u001b[0m\u001b[0;34m\u001b[0m\u001b[0;34m\u001b[0m\u001b[0m\n",
      "\u001b[0;32m/Volumes/My Passport/[SAARLAND]/[HLCV]/Exercise_1/Shared/Assignment1/identification-Q234/dist_module.py\u001b[0m in \u001b[0;36mget_dist_by_name\u001b[0;34m(x, y, dist_name)\u001b[0m\n\u001b[1;32m     41\u001b[0m     \u001b[0;32mreturn\u001b[0m \u001b[0mdist_intersect\u001b[0m\u001b[0;34m(\u001b[0m\u001b[0mx\u001b[0m\u001b[0;34m,\u001b[0m\u001b[0my\u001b[0m\u001b[0;34m)\u001b[0m\u001b[0;34m\u001b[0m\u001b[0;34m\u001b[0m\u001b[0m\n\u001b[1;32m     42\u001b[0m   \u001b[0;32melif\u001b[0m \u001b[0mdist_name\u001b[0m \u001b[0;34m==\u001b[0m \u001b[0;34m'l2'\u001b[0m\u001b[0;34m:\u001b[0m\u001b[0;34m\u001b[0m\u001b[0;34m\u001b[0m\u001b[0m\n\u001b[0;32m---> 43\u001b[0;31m     \u001b[0;32mreturn\u001b[0m \u001b[0mdist_l2\u001b[0m\u001b[0;34m(\u001b[0m\u001b[0mx\u001b[0m\u001b[0;34m,\u001b[0m\u001b[0my\u001b[0m\u001b[0;34m)\u001b[0m\u001b[0;34m\u001b[0m\u001b[0;34m\u001b[0m\u001b[0m\n\u001b[0m\u001b[1;32m     44\u001b[0m   \u001b[0;32melse\u001b[0m\u001b[0;34m:\u001b[0m\u001b[0;34m\u001b[0m\u001b[0;34m\u001b[0m\u001b[0m\n\u001b[1;32m     45\u001b[0m     \u001b[0;32massert\u001b[0m \u001b[0;34m'unknown distance: %s'\u001b[0m\u001b[0;34m%\u001b[0m\u001b[0mdist_name\u001b[0m\u001b[0;34m\u001b[0m\u001b[0;34m\u001b[0m\u001b[0m\n",
      "\u001b[0;32m/Volumes/My Passport/[SAARLAND]/[HLCV]/Exercise_1/Shared/Assignment1/identification-Q234/dist_module.py\u001b[0m in \u001b[0;36mdist_l2\u001b[0;34m(x, y)\u001b[0m\n\u001b[1;32m     17\u001b[0m   \u001b[0mdist\u001b[0m\u001b[0;34m=\u001b[0m\u001b[0;36m0\u001b[0m\u001b[0;34m\u001b[0m\u001b[0;34m\u001b[0m\u001b[0m\n\u001b[1;32m     18\u001b[0m   \u001b[0;32mfor\u001b[0m \u001b[0mi\u001b[0m \u001b[0;32min\u001b[0m \u001b[0mrange\u001b[0m\u001b[0;34m(\u001b[0m\u001b[0;36m0\u001b[0m\u001b[0;34m,\u001b[0m\u001b[0mlen\u001b[0m\u001b[0;34m(\u001b[0m\u001b[0mx\u001b[0m\u001b[0;34m)\u001b[0m\u001b[0;34m)\u001b[0m\u001b[0;34m:\u001b[0m\u001b[0;34m\u001b[0m\u001b[0;34m\u001b[0m\u001b[0m\n\u001b[0;32m---> 19\u001b[0;31m     \u001b[0mdist\u001b[0m\u001b[0;34m+=\u001b[0m\u001b[0;34m(\u001b[0m\u001b[0my\u001b[0m\u001b[0;34m[\u001b[0m\u001b[0mi\u001b[0m\u001b[0;34m]\u001b[0m\u001b[0;34m-\u001b[0m\u001b[0mx\u001b[0m\u001b[0;34m[\u001b[0m\u001b[0mi\u001b[0m\u001b[0;34m]\u001b[0m\u001b[0;34m)\u001b[0m\u001b[0;34m**\u001b[0m\u001b[0;36m2\u001b[0m\u001b[0;34m\u001b[0m\u001b[0;34m\u001b[0m\u001b[0m\n\u001b[0m\u001b[1;32m     20\u001b[0m   \u001b[0mdist\u001b[0m\u001b[0;34m=\u001b[0m\u001b[0mdist\u001b[0m\u001b[0;34m**\u001b[0m\u001b[0;36m0.5\u001b[0m\u001b[0;34m\u001b[0m\u001b[0;34m\u001b[0m\u001b[0m\n\u001b[1;32m     21\u001b[0m   \u001b[0;31m# print(\"2hh\"+str(dist))\u001b[0m\u001b[0;34m\u001b[0m\u001b[0;34m\u001b[0m\u001b[0;34m\u001b[0m\u001b[0m\n",
      "\u001b[0;31mKeyboardInterrupt\u001b[0m: "
     ]
    }
   ],
   "source": [
    "for didx in range(len(distance_types)):\n",
    "  for hidx in range(len(hist_types)):\n",
    "    for x in range(len(bins)): \n",
    "      print(distance_types[didx], hist_types[hidx], bins[x])  \n",
    "#       [best_match, D] = match_module.find_best_match(model_images, query_images, distance_types[didx], hist_types[hidx], int(bins[x]))\n",
    "      [best_match, D] = match_module.find_best_match(model_images, query_images, 'intersect', 'rg', int(bins[x]))\n",
    "      num_correct = sum( best_match == range(len(query_images)) )\n",
    "      print('number of correct matches: %d (%f)\\n'% (num_correct, 1.0 * num_correct / len(query_images)))\n",
    "      Correct_Match_Table[didx, hidx,x] =  num_correct / len(query_images)\n",
    "      print('\\n')\n"
   ]
  },
  {
   "cell_type": "code",
   "execution_count": null,
   "id": "c3c49340",
   "metadata": {},
   "outputs": [],
   "source": [
    "#### np.shape(Correct_Match_Table)\n",
    "Correct_Match_Table"
   ]
  },
  {
   "cell_type": "code",
   "execution_count": null,
   "id": "f4b914c1",
   "metadata": {},
   "outputs": [],
   "source": [
    "plt.figure()\n",
    "fig, axes2d = plt.subplots(nrows=5, ncols=len(distance_types),sharex=True, sharey=True,figsize=(6,6))\n",
    "for i, row in enumerate(axes2d):\n",
    "    for j, cell in enumerate(row):\n",
    "        if(j==0):\n",
    "            cell.imshow(np.array(Image.open(model_images[i])), vmin=0, vmax=255)\n",
    "            if i == len(axes2d) - 1:\n",
    "                cell.set_xlabel(\"Test image\")\n",
    "        else:\n",
    "            cell.imshow(np.array(Image.open(query_images[best_match[i]])), vmin=0, vmax=255 )  \n",
    "            if i == len(axes2d) - 1:\n",
    "                cell.set_xlabel(\"Best Match\")\n",
    "        if j == 0:\n",
    "            cell.set_ylabel(\"Test case: {0:d}\".format(i + 1))\n",
    "plt.tight_layout()\n",
    "plt.show()"
   ]
  },
  {
   "cell_type": "code",
   "execution_count": null,
   "id": "8a750ba9",
   "metadata": {},
   "outputs": [],
   "source": [
    "import numpy as np\n",
    "import matplotlib.pyplot as plt\n",
    "data = [[[30, 25, 50, 20],\n",
    "[40, 23, 51, 17]],\n",
    "[[35, 22, 45, 19],\n",
    "[40, 23, 51, 17]]]\n",
    "X = np.arange(4)\n",
    "fig = plt.figure()\n",
    "ax = fig.add_axes([0,0,1,1])\n",
    "ax.bar(X + 0.00, data[0], color = 'b', width = 0.25)\n",
    "ax.bar(X + 0.25, data[1], color = 'g', width = 0.25)\n",
    "ax.bar(X + 0.50, data[2], color = 'r', width = 0.25)"
   ]
  },
  {
   "cell_type": "code",
   "execution_count": null,
   "id": "b2a73a94",
   "metadata": {},
   "outputs": [],
   "source": []
  },
  {
   "cell_type": "code",
   "execution_count": null,
   "id": "c281d7cd",
   "metadata": {},
   "outputs": [],
   "source": [
    "## plot recall_precision curves (Question 4)\n",
    "\n",
    "with open('model.txt') as fp:\n",
    "    model_images = fp.readlines()\n",
    "model_images = [x.strip() for x in model_images] \n",
    "\n",
    "with open('query.txt') as fp:\n",
    "    query_images = fp.readlines()\n",
    "query_images = [x.strip() for x in query_images] \n",
    "\n",
    "eval_num_bins = 20;\n",
    "\n",
    "\n",
    "plt.figure()\n",
    "rpc_module.compare_dist_rpc(model_images, query_images, ['chi2', 'intersect', 'l2'], 'rg', eval_num_bins, ['r', 'g', 'b'])\n",
    "plt.title('RG histograms')\n",
    "plt.show()\n",
    "\n",
    "\n",
    "plt.figure()\n",
    "rpc_module.compare_dist_rpc(model_images, query_images, ['chi2', 'intersect', 'l2'], 'rgb', eval_num_bins / 2, ['r', 'g', 'b'])\n",
    "plt.title('RGB histograms')\n",
    "plt.show()\n",
    "\n",
    "plt.figure()\n",
    "rpc_module.compare_dist_rpc(model_images, query_images, ['chi2', 'intersect', 'l2'], 'dxdy', eval_num_bins, ['r', 'g', 'b'])\n",
    "plt.title('dx/dy histograms')\n",
    "plt.show()"
   ]
  },
  {
   "cell_type": "code",
   "execution_count": null,
   "id": "88f43ffc",
   "metadata": {},
   "outputs": [],
   "source": []
  }
 ],
 "metadata": {
  "kernelspec": {
   "display_name": "Python 3",
   "language": "python",
   "name": "python3"
  },
  "language_info": {
   "codemirror_mode": {
    "name": "ipython",
    "version": 3
   },
   "file_extension": ".py",
   "mimetype": "text/x-python",
   "name": "python",
   "nbconvert_exporter": "python",
   "pygments_lexer": "ipython3",
   "version": "3.9.4"
  }
 },
 "nbformat": 4,
 "nbformat_minor": 5
}
